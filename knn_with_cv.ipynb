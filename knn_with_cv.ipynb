{
 "cells": [
  {
   "cell_type": "code",
   "execution_count": 48,
   "metadata": {},
   "outputs": [],
   "source": [
    "import pandas as pd\n",
    "d = pd.read_csv('breast.txt', sep=' ', names=[chr(i+65) for i in range(10)])\n",
    "ds = d.iloc[:, :9]\n",
    "dr = d['J']"
   ]
  },
  {
   "cell_type": "code",
   "execution_count": 49,
   "metadata": {},
   "outputs": [
    {
     "name": "stdout",
     "output_type": "stream",
     "text": [
      "  Training set size: 524\n",
      "      Test set size: 175\n"
     ]
    }
   ],
   "source": [
    "test_size = 175\n",
    "from sklearn.model_selection import train_test_split\n",
    "X_train, X_test, y_train, y_test = train_test_split(ds, dr, test_size=test_size, random_state=0)\n",
    "\n",
    "print(f'  Training set size: {len(X_train)}')\n",
    "print(f'      Test set size: {len(X_test)}')"
   ]
  },
  {
   "cell_type": "code",
   "execution_count": 50,
   "metadata": {},
   "outputs": [
    {
     "name": "stderr",
     "output_type": "stream",
     "text": [
      "D:\\Anaconda\\lib\\site-packages\\sklearn\\metrics\\cluster\\supervised.py:844: FutureWarning: The behavior of NMI will change in version 0.22. To match the behavior of 'v_measure_score', NMI will use average_method='arithmetic' by default.\n",
      "  FutureWarning)\n"
     ]
    },
    {
     "data": {
      "text/plain": [
       "[0.7755616119157797,\n",
       " 0.6801250775621099,\n",
       " 0.8347098659735115,\n",
       " 0.8037135699939966,\n",
       " 0.8347098659735115,\n",
       " 0.7755616119157797,\n",
       " 0.8045424941710301,\n",
       " 0.7736728840461012,\n",
       " 0.7736728840461012,\n",
       " 0.8037135699939966,\n",
       " 0.8037135699939966,\n",
       " 0.8037135699939966,\n",
       " 0.8037135699939966,\n",
       " 0.7755616119157797,\n",
       " 0.7736728840461012,\n",
       " 0.7456445162798209,\n",
       " 0.7456445162798209,\n",
       " 0.7456445162798209,\n",
       " 0.7456445162798209,\n",
       " 0.7456445162798209]"
      ]
     },
     "execution_count": 50,
     "metadata": {},
     "output_type": "execute_result"
    }
   ],
   "source": [
    "k_scores = []\n",
    "yp = []\n",
    "for k in range(20):\n",
    "    knn = KNeighborsClassifier(n_neighbors=k+1)\n",
    "    knn.fit(X_train, y_train)\n",
    "    yp.append(knn.predict(X_test))\n",
    "for k in range(20):\n",
    "    k_scores.append(metrics.normalized_mutual_info_score(yp[k], y_test))\n",
    "k_scores"
   ]
  },
  {
   "cell_type": "code",
   "execution_count": 51,
   "metadata": {},
   "outputs": [
    {
     "name": "stdout",
     "output_type": "stream",
     "text": [
      "0.8347098659735115\n"
     ]
    },
    {
     "name": "stderr",
     "output_type": "stream",
     "text": [
      "D:\\Anaconda\\lib\\site-packages\\sklearn\\metrics\\cluster\\supervised.py:844: FutureWarning: The behavior of NMI will change in version 0.22. To match the behavior of 'v_measure_score', NMI will use average_method='arithmetic' by default.\n",
      "  FutureWarning)\n"
     ]
    }
   ],
   "source": [
    "from sklearn.neighbors import KNeighborsClassifier\n",
    "model = KNeighborsClassifier(n_neighbors=5)\n",
    "model.fit(X_train, y_train)\n",
    "y_pred = model.predict(X_test)\n",
    "from sklearn import metrics\n",
    "print(metrics.normalized_mutual_info_score(y_pred, y_test))"
   ]
  },
  {
   "cell_type": "code",
   "execution_count": null,
   "metadata": {},
   "outputs": [],
   "source": []
  }
 ],
 "metadata": {
  "kernelspec": {
   "display_name": "Python 3",
   "language": "python",
   "name": "python3"
  },
  "language_info": {
   "codemirror_mode": {
    "name": "ipython",
    "version": 3
   },
   "file_extension": ".py",
   "mimetype": "text/x-python",
   "name": "python",
   "nbconvert_exporter": "python",
   "pygments_lexer": "ipython3",
   "version": "3.7.3"
  }
 },
 "nbformat": 4,
 "nbformat_minor": 2
}
